{
 "cells": [
  {
   "cell_type": "code",
   "execution_count": 37,
   "id": "f6e6fc57-0c30-4fe2-90da-ccfc54d2b203",
   "metadata": {},
   "outputs": [],
   "source": [
    "# code from https://www.kaggle.com/code/hojjatk/read-mnist-dataset\n",
    "# reading \"MNIST Dataset\"\n",
    "\n",
    "import numpy as np # linear algebra\n",
    "import struct\n",
    "from array import array\n",
    "import os\n",
    "from os.path  import join\n",
    "\n",
    "#os.chdir(\"Data/\")\n",
    "#\n",
    "# MNIST Data Loader Class\n",
    "#\n",
    "class MnistDataloader(object):\n",
    "    def __init__(self, training_images_filepath,training_labels_filepath,\n",
    "                 test_images_filepath, test_labels_filepath):\n",
    "        self.training_images_filepath = 'train-images.idx3-ubyte'\n",
    "        self.training_labels_filepath = 'train-labels.idx1-ubyte'\n",
    "        self.test_images_filepath = 't10k-images.idx3-ubyte'\n",
    "        self.test_labels_filepath = 't10k-labels.idx1-ubyte'\n",
    "    \n",
    "    def read_images_labels(self, images_filepath, labels_filepath):        \n",
    "        labels = []\n",
    "        with open(labels_filepath, 'rb') as file:\n",
    "            magic, size = struct.unpack(\">II\", file.read(8))\n",
    "            if magic != 2049:\n",
    "                raise ValueError('Magic number mismatch, expected 2049, got {}'.format(magic))\n",
    "            labels = array(\"B\", file.read())        \n",
    "        \n",
    "        with open(images_filepath, 'rb') as file:\n",
    "            magic, size, rows, cols = struct.unpack(\">IIII\", file.read(16))\n",
    "            if magic != 2051:\n",
    "                raise ValueError('Magic number mismatch, expected 2051, got {}'.format(magic))\n",
    "            image_data = array(\"B\", file.read())        \n",
    "        images = []\n",
    "        for i in range(size):\n",
    "            images.append([0] * rows * cols)\n",
    "        for i in range(size):\n",
    "            img = np.array(image_data[i * rows * cols:(i + 1) * rows * cols])\n",
    "            img = img.reshape(28, 28)\n",
    "            images[i][:] = img            \n",
    "        \n",
    "        return images, labels\n",
    "            \n",
    "    def load_data(self):\n",
    "        x_train, y_train = self.read_images_labels(self.training_images_filepath, self.training_labels_filepath)\n",
    "        x_test, y_test = self.read_images_labels(self.test_images_filepath, self.test_labels_filepath)\n",
    "        return (x_train, y_train),(x_test, y_test)  \n",
    "\n",
    "    def sampling (self, train_sample, test_sample, x_train, y_train, x_test, y_test):\n",
    "        X_train = []\n",
    "        X_test = []\n",
    "        Y_train = []\n",
    "        Y_test = []\n",
    "    \n",
    "        for i in range(0, train_sample):\n",
    "            r = random.randint(0, 60000)\n",
    "            X_train.append(x_train[r])\n",
    "            Y_train.append(y_train[r])\n",
    "        \n",
    "        for i in range(0, test_sample):\n",
    "            r = random.randint(1, 10000)\n",
    "            X_test.append(x_test[r])\n",
    "            Y_test.append(y_test[r])\n",
    "        return X_train, Y_train, X_test, Y_test"
   ]
  },
  {
   "cell_type": "code",
   "execution_count": 56,
   "id": "2f4cd87d-d97a-479b-9856-7d2fc8c68a18",
   "metadata": {},
   "outputs": [
    {
     "data": {
      "text/plain": [
       "'C:\\\\Users\\\\malvarez\\\\Documents\\\\GitHub\\\\model_LeNET5\\\\Data'"
      ]
     },
     "execution_count": 56,
     "metadata": {},
     "output_type": "execute_result"
    }
   ],
   "source": [
    "os.getcwd()"
   ]
  },
  {
   "cell_type": "code",
   "execution_count": 54,
   "id": "9cd2893d-543e-40e5-aec8-a0acc4b70739",
   "metadata": {},
   "outputs": [],
   "source": [
    "os.chdir('C:\\\\Users\\\\malvarez\\\\Documents\\\\GitHub\\\\model_LeNET5\\\\Data\\\\')"
   ]
  },
  {
   "cell_type": "code",
   "execution_count": null,
   "id": "7aeec440-5e0e-4600-baad-16bacb733dba",
   "metadata": {},
   "outputs": [],
   "source": [
    "Documents/GitHub/model_LeNET5/Data/train-labels.idx1-ubyte"
   ]
  }
 ],
 "metadata": {
  "kernelspec": {
   "display_name": "Python 3 (ipykernel)",
   "language": "python",
   "name": "python3"
  },
  "language_info": {
   "codemirror_mode": {
    "name": "ipython",
    "version": 3
   },
   "file_extension": ".py",
   "mimetype": "text/x-python",
   "name": "python",
   "nbconvert_exporter": "python",
   "pygments_lexer": "ipython3",
   "version": "3.12.3"
  }
 },
 "nbformat": 4,
 "nbformat_minor": 5
}
